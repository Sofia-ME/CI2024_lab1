{
 "cells": [
  {
   "cell_type": "markdown",
   "metadata": {},
   "source": [
    "Copyright **`(c)`** 2024 Giovanni Squillero `<giovanni.squillero@polito.it>`  \n",
    "[`https://github.com/squillero/computational-intelligence`](https://github.com/squillero/computational-intelligence)  \n",
    "Free for personal or classroom use; see [`LICENSE.md`](https://github.com/squillero/computational-intelligence/blob/master/LICENSE.md) for details.  "
   ]
  },
  {
   "cell_type": "markdown",
   "metadata": {},
   "source": [
    "# Set Cover problem\n",
    "\n",
    "See: https://en.wikipedia.org/wiki/Set_cover_problem"
   ]
  },
  {
   "cell_type": "code",
   "execution_count": 42,
   "metadata": {},
   "outputs": [],
   "source": [
    "from random import random, seed\n",
    "from itertools import product\n",
    "import numpy as np\n",
    "\n",
    "from icecream import ic"
   ]
  },
  {
   "cell_type": "markdown",
   "metadata": {},
   "source": [
    "## Reproducible Initialization\n",
    "\n",
    "If you want to get reproducible results, use `rng` (and restart the kernel); for non-reproducible ones, use `np.random`."
   ]
  },
  {
   "cell_type": "code",
   "execution_count": 43,
   "metadata": {},
   "outputs": [],
   "source": [
    "UNIVERSE_SIZE = 10000\n",
    "NUM_SETS = 1000\n",
    "DENSITY = 0.2\n",
    "\n",
    "rng = np.random.Generator(np.random.PCG64([UNIVERSE_SIZE, NUM_SETS, int(10_000 * DENSITY)]))"
   ]
  },
  {
   "cell_type": "code",
   "execution_count": 44,
   "metadata": {},
   "outputs": [],
   "source": [
    "# DON'T EDIT THESE LINES!\n",
    "\n",
    "SETS = np.random.random((NUM_SETS, UNIVERSE_SIZE)) < DENSITY\n",
    "for s in range(UNIVERSE_SIZE):\n",
    "    if not np.any(SETS[:, s]):\n",
    "        SETS[np.random.randint(NUM_SETS), s] = True\n",
    "COSTS = np.power(SETS.sum(axis=1), 1.1)"
   ]
  },
  {
   "cell_type": "markdown",
   "metadata": {},
   "source": [
    "## Helper Functions"
   ]
  },
  {
   "cell_type": "code",
   "execution_count": 45,
   "metadata": {},
   "outputs": [],
   "source": [
    "def valid(solution):\n",
    "    \"\"\"Checks wether solution is valid (ie. covers all universe)\"\"\"\n",
    "    return np.all(np.logical_or.reduce(SETS[solution]))\n",
    "\n",
    "\n",
    "def cost(solution):\n",
    "    \"\"\"Returns the cost of a solution (to be minimized)\"\"\"\n",
    "    return COSTS[solution].sum()"
   ]
  },
  {
   "cell_type": "markdown",
   "metadata": {},
   "source": [
    "## Have Fun!"
   ]
  },
  {
   "cell_type": "code",
   "execution_count": 46,
   "metadata": {},
   "outputs": [
    {
     "data": {
      "text/plain": [
       "(True, 4272022.668466863)"
      ]
     },
     "execution_count": 46,
     "metadata": {},
     "output_type": "execute_result"
    }
   ],
   "source": [
    "# A dumb solution of \"all\" sets\n",
    "solution = np.full(NUM_SETS, True)\n",
    "valid(solution), cost(solution)"
   ]
  },
  {
   "cell_type": "code",
   "execution_count": 47,
   "metadata": {},
   "outputs": [
    {
     "data": {
      "text/plain": [
       "(True, 2136960.6763170105)"
      ]
     },
     "execution_count": 47,
     "metadata": {},
     "output_type": "execute_result"
    }
   ],
   "source": [
    "# A random solution with random 50% of the sets\n",
    "solution = rng.random(NUM_SETS) < .5\n",
    "valid(solution), cost(solution)"
   ]
  },
  {
   "cell_type": "markdown",
   "metadata": {},
   "source": [
    "### Solution"
   ]
  },
  {
   "cell_type": "code",
   "execution_count": 48,
   "metadata": {},
   "outputs": [
    {
     "name": "stdout",
     "output_type": "stream",
     "text": [
      "True 145687.9189114162\n"
     ]
    }
   ],
   "source": [
    "# Tweak and restart\n",
    "\n",
    "# Best solution - initializes with all sets\n",
    "best = np.full(NUM_SETS, True)\n",
    "\n",
    "# How many times it should restart\n",
    "max_restarts = 100\n",
    "\n",
    "for i in range(max_restarts):\n",
    "\n",
    "    # Initialize the solution (start with no sets selected)\n",
    "    solution = np.full(NUM_SETS, False)\n",
    "\n",
    "    # Keep adding sets until the solution is valid\n",
    "    while not valid(solution):\n",
    "        # Randomly pick a set that is not already in the solution\n",
    "        index = np.random.randint(0, NUM_SETS)\n",
    "        if not solution[index]:  # Only add if not already in the solution\n",
    "            solution[index] = True\n",
    "        \n",
    "           \n",
    "\n",
    "    # Return the valid solution and its cost\n",
    "    #print(valid(solution), cost(solution))\n",
    "\n",
    "    if cost(solution) < cost (best):\n",
    "        best = solution.copy()\n",
    "\n",
    "\n",
    "print(valid(best), cost(best))"
   ]
  },
  {
   "cell_type": "code",
   "execution_count": 49,
   "metadata": {},
   "outputs": [
    {
     "name": "stdout",
     "output_type": "stream",
     "text": [
      "True 149029.96110158734\n"
     ]
    }
   ],
   "source": [
    "# Stronger tweak and restart\n",
    "\n",
    "# Best solution - initializes with all sets\n",
    "best = np.full(NUM_SETS, True)\n",
    "\n",
    "# How many times it should restart\n",
    "max_restarts = 100\n",
    "\n",
    "for i in range(max_restarts):\n",
    "\n",
    "    # Initialize the solution (start with no sets selected)\n",
    "    solution = np.full(NUM_SETS, False)\n",
    "\n",
    "    # Keep adding sets until the solution is valid\n",
    "    while not valid(solution):\n",
    "        index = None\n",
    "        while index is None or np.random.random() < 0.4:\n",
    "            index = np.random.randint(0, NUM_SETS)\n",
    "        \n",
    "            if not solution[index]:  # Only add if not already in the solution\n",
    "                solution[index] = True\n",
    "\n",
    "    # Return the valid solution and its cost\n",
    "    #print(valid(solution), cost(solution))\n",
    "\n",
    "    if cost(solution) < cost (best):\n",
    "        best = solution.copy()\n",
    "\n",
    "\n",
    "print(valid(best), cost(best))"
   ]
  },
  {
   "cell_type": "code",
   "execution_count": 50,
   "metadata": {},
   "outputs": [
    {
     "name": "stdout",
     "output_type": "stream",
     "text": [
      "True 103809.35251675664\n"
     ]
    }
   ],
   "source": [
    "# Greedy algorithm\n",
    "\n",
    "# Initialize the solution (start with no sets selected)\n",
    "solution = np.full(NUM_SETS, False)\n",
    "\n",
    "# Array with all elements uncovered (initializes with all elements)\n",
    "uncovered_elements = np.where(np.any(SETS, axis=0))[0]\n",
    "\n",
    "\n",
    "while not valid(solution):\n",
    "\n",
    "    # Cost of the best set (initializes with the cost of all sets)\n",
    "    best_set_cost = cost(np.full(NUM_SETS, True))\n",
    "\n",
    "    # Maximum number of uncovered elements in a set\n",
    "    max_uncovered = 0\n",
    "\n",
    "    # Set with more uncovered elements and lowest cost\n",
    "    best_set_index = None\n",
    "\n",
    "    for set_index in range(len(SETS)):\n",
    "\n",
    "        # Checks if set has already been used\n",
    "        if not solution[set_index]:\n",
    "\n",
    "            # Number of elements still uncovered that a set covers\n",
    "            uncovered_elements_in_set = len(np.intersect1d(uncovered_elements, np.where(SETS[set_index])[0]))\n",
    "            \n",
    "            # Set cost \n",
    "            set_cost = COSTS[set_index]\n",
    "\n",
    "            # Update the best set based on uncovered elements and cost\n",
    "            if uncovered_elements_in_set > max_uncovered:\n",
    "                max_uncovered = uncovered_elements_in_set\n",
    "                best_set_index = set_index\n",
    "                best_set_cost = set_cost\n",
    "            elif uncovered_elements_in_set == max_uncovered and set_cost < best_set_cost:\n",
    "                best_set_index = set_index\n",
    "                best_set_cost = set_cost\n",
    "    \n",
    "    # Adds set to solution\n",
    "    solution[best_set_index] = True\n",
    "\n",
    "    # Updates list of uncovered elements\n",
    "    uncovered_elements = np.setdiff1d(uncovered_elements, np.where(SETS[best_set_index])[0])\n",
    "    \n",
    "\n",
    "print(valid(solution), cost(solution))        \n",
    "        "
   ]
  }
 ],
 "metadata": {
  "kernelspec": {
   "display_name": "Python 3 (ipykernel)",
   "language": "python",
   "name": "python3"
  },
  "language_info": {
   "codemirror_mode": {
    "name": "ipython",
    "version": 3
   },
   "file_extension": ".py",
   "mimetype": "text/x-python",
   "name": "python",
   "nbconvert_exporter": "python",
   "pygments_lexer": "ipython3",
   "version": "3.8.8"
  }
 },
 "nbformat": 4,
 "nbformat_minor": 4
}
