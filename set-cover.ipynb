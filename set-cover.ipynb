{
 "cells": [
  {
   "cell_type": "markdown",
   "metadata": {},
   "source": [
    "Copyright **`(c)`** 2024 Giovanni Squillero `<giovanni.squillero@polito.it>`  \n",
    "[`https://github.com/squillero/computational-intelligence`](https://github.com/squillero/computational-intelligence)  \n",
    "Free for personal or classroom use; see [`LICENSE.md`](https://github.com/squillero/computational-intelligence/blob/master/LICENSE.md) for details.  "
   ]
  },
  {
   "cell_type": "markdown",
   "metadata": {},
   "source": [
    "# Set Cover problem\n",
    "\n",
    "See: https://en.wikipedia.org/wiki/Set_cover_problem"
   ]
  },
  {
   "cell_type": "code",
   "execution_count": 27,
   "metadata": {},
   "outputs": [],
   "source": [
    "from random import random, seed\n",
    "from itertools import product, accumulate\n",
    "import numpy as np\n",
    "import matplotlib.pyplot as plt\n",
    "from tqdm import tqdm\n",
    "\n",
    "from icecream import ic"
   ]
  },
  {
   "cell_type": "markdown",
   "metadata": {},
   "source": [
    "## Reproducible Initialization\n",
    "\n",
    "If you want to get reproducible results, use `rng` (and restart the kernel); for non-reproducible ones, use `np.random`."
   ]
  },
  {
   "cell_type": "code",
   "execution_count": 28,
   "metadata": {},
   "outputs": [],
   "source": [
    "UNIVERSE_SIZE = 10000\n",
    "NUM_SETS = 1000\n",
    "DENSITY = 0.2\n",
    "\n",
    "rng = np.random.Generator(np.random.PCG64([UNIVERSE_SIZE, NUM_SETS, int(10_000 * DENSITY)]))"
   ]
  },
  {
   "cell_type": "code",
   "execution_count": 29,
   "metadata": {},
   "outputs": [],
   "source": [
    "# DON'T EDIT THESE LINES!\n",
    "\n",
    "SETS = np.random.random((NUM_SETS, UNIVERSE_SIZE)) < DENSITY\n",
    "for s in range(UNIVERSE_SIZE):\n",
    "    if not np.any(SETS[:, s]):\n",
    "        SETS[np.random.randint(NUM_SETS), s] = True\n",
    "COSTS = np.power(SETS.sum(axis=1), 1.1)"
   ]
  },
  {
   "cell_type": "markdown",
   "metadata": {},
   "source": [
    "## Helper Functions"
   ]
  },
  {
   "cell_type": "code",
   "execution_count": 30,
   "metadata": {},
   "outputs": [],
   "source": [
    "def valid(solution):\n",
    "    \"\"\"Checks wether solution is valid (ie. covers all universe)\"\"\"\n",
    "    return np.all(np.logical_or.reduce(SETS[solution]))\n",
    "\n",
    "\n",
    "def cost(solution):\n",
    "    \"\"\"Returns the cost of a solution (to be minimized)\"\"\"\n",
    "    return COSTS[solution].sum()"
   ]
  },
  {
   "cell_type": "markdown",
   "metadata": {},
   "source": [
    "## Have Fun!"
   ]
  },
  {
   "cell_type": "code",
   "execution_count": 31,
   "metadata": {},
   "outputs": [
    {
     "data": {
      "text/plain": [
       "(True, 4273965.462644153)"
      ]
     },
     "execution_count": 31,
     "metadata": {},
     "output_type": "execute_result"
    }
   ],
   "source": [
    "# A dumb solution of \"all\" sets\n",
    "solution = np.full(NUM_SETS, True)\n",
    "valid(solution), cost(solution)"
   ]
  },
  {
   "cell_type": "code",
   "execution_count": 32,
   "metadata": {},
   "outputs": [
    {
     "data": {
      "text/plain": [
       "(True, 2135345.5132768503)"
      ]
     },
     "execution_count": 32,
     "metadata": {},
     "output_type": "execute_result"
    }
   ],
   "source": [
    "# A random solution with random 50% of the sets\n",
    "solution = rng.random(NUM_SETS) < .5\n",
    "valid(solution), cost(solution)"
   ]
  },
  {
   "cell_type": "markdown",
   "metadata": {},
   "source": [
    "### Solution"
   ]
  },
  {
   "cell_type": "markdown",
   "metadata": {},
   "source": [
    "\n",
    "\n",
    "This code implements a self-adaptive optimization algorithm using simulated annealing with a restart strategy to solve a defined cost function. It initializes a current solution and iteratively tweaks it while accepting new solutions based on their costs and a decreasing temperature. The algorithm adapts the intensity of changes based on recent improvements, allowing for aggressive tweaks when progress is made and moderating them when it stalls. It also monitors valid costs to terminate early if consecutive iterations yield the same result, improving efficiency. The best solution found across all restarts is tracked, and the cost progression is visualized.\n",
    "\n",
    "This code is inspired by the lectures and course materials presented in the Computational Intelligence course (01URROV).\n",
    "\n"
   ]
  },
  {
   "cell_type": "code",
   "execution_count": 34,
   "metadata": {},
   "outputs": [
    {
     "name": "stderr",
     "output_type": "stream",
     "text": [
      "Restarts:  10%|█         | 1/10 [00:02<00:24,  2.70s/restart]"
     ]
    },
    {
     "name": "stdout",
     "output_type": "stream",
     "text": [
      "Stopping restart 0 early due to 500 iterations with the same cost.\n"
     ]
    },
    {
     "name": "stderr",
     "output_type": "stream",
     "text": [
      "Restarts:  20%|██        | 2/10 [00:05<00:20,  2.59s/restart]\n"
     ]
    },
    {
     "name": "stdout",
     "output_type": "stream",
     "text": [
      "Stopping restart 1 early due to 500 iterations with the same cost.\n"
     ]
    },
    {
     "name": "stderr",
     "output_type": "stream",
     "text": [
      "Restarts:  30%|███       | 3/10 [00:08<00:19,  2.74s/restart]13, 135.86iter/s]\u001b[A"
     ]
    },
    {
     "name": "stdout",
     "output_type": "stream",
     "text": [
      "Stopping restart 2 early due to 500 iterations with the same cost.\n"
     ]
    },
    {
     "name": "stderr",
     "output_type": "stream",
     "text": [
      "Restarts:  40%|████      | 4/10 [00:10<00:16,  2.69s/restart]"
     ]
    },
    {
     "name": "stdout",
     "output_type": "stream",
     "text": [
      "Stopping restart 3 early due to 500 iterations with the same cost.\n"
     ]
    },
    {
     "name": "stderr",
     "output_type": "stream",
     "text": [
      "Restarts:  50%|█████     | 5/10 [00:13<00:13,  2.74s/restart]"
     ]
    },
    {
     "name": "stdout",
     "output_type": "stream",
     "text": [
      "Stopping restart 4 early due to 500 iterations with the same cost.\n"
     ]
    },
    {
     "name": "stderr",
     "output_type": "stream",
     "text": [
      "Restarts:  60%|██████    | 6/10 [00:16<00:10,  2.70s/restart]"
     ]
    },
    {
     "name": "stdout",
     "output_type": "stream",
     "text": [
      "Stopping restart 5 early due to 500 iterations with the same cost.\n"
     ]
    },
    {
     "name": "stderr",
     "output_type": "stream",
     "text": [
      "Restarts:  70%|███████   | 7/10 [00:18<00:07,  2.63s/restart]"
     ]
    },
    {
     "name": "stdout",
     "output_type": "stream",
     "text": [
      "Stopping restart 6 early due to 500 iterations with the same cost.\n"
     ]
    },
    {
     "name": "stderr",
     "output_type": "stream",
     "text": [
      "Restarts:  80%|████████  | 8/10 [00:21<00:05,  2.62s/restart]"
     ]
    },
    {
     "name": "stdout",
     "output_type": "stream",
     "text": [
      "Stopping restart 7 early due to 500 iterations with the same cost.\n"
     ]
    },
    {
     "name": "stderr",
     "output_type": "stream",
     "text": [
      "Restarts:  90%|█████████ | 9/10 [00:24<00:02,  2.76s/restart]"
     ]
    },
    {
     "name": "stdout",
     "output_type": "stream",
     "text": [
      "Stopping restart 8 early due to 500 iterations with the same cost.\n"
     ]
    },
    {
     "name": "stderr",
     "output_type": "stream",
     "text": [
      "Restarts: 100%|██████████| 10/10 [00:26<00:00,  2.70s/restart]\n"
     ]
    },
    {
     "name": "stdout",
     "output_type": "stream",
     "text": [
      "Stopping restart 9 early due to 500 iterations with the same cost.\n"
     ]
    },
    {
     "data": {
      "image/png": "[encoded data removed]",
      "text/plain": [
       "<Figure size 1400x800 with 1 Axes>"
      ]
     },
     "metadata": {},
     "output_type": "display_data"
    },
    {
     "name": "stdout",
     "output_type": "stream",
     "text": [
      "True 128578.22522265333\n"
     ]
    }
   ],
   "source": [
    "# Self-adaptive tweak, simulated annealing and restart\n",
    "\n",
    "# Maximum number of iterations for tweak\n",
    "max_iterations = 10000\n",
    "\n",
    "# Tweak intensity\n",
    "strength = 0.5\n",
    "\n",
    "# Number of times the algorithm restarts\n",
    "max_restarts = 10\n",
    "\n",
    "# Buffer to track improvements (initializes with 0)\n",
    "buffer = [0] * 5\n",
    "\n",
    "# Parameters for simulated annealing\n",
    "initial_temperature = 10  # Starting temperature\n",
    "cooling_rate = 0.99       # Cooling rate to decrease temperature\n",
    "min_temperature = 0.1     # Minimum temperature to stop cooling\n",
    "\n",
    "# Maximum number of consecutive valid solutions with the same cost\n",
    "max_same_cost_iterations = 500\n",
    "\n",
    "# Acceptance Probability Function for Simulated Annealing\n",
    "def acceptance_probability(old_cost, new_cost, temperature):\n",
    "    if new_cost < old_cost:\n",
    "        return 1.0  # Always accept better solutions\n",
    "    return np.exp((old_cost - new_cost) / temperature)\n",
    "\n",
    "# Initialize global best (solution, cost, and restart tracking)\n",
    "global_best_solution = None\n",
    "global_best_cost = float('inf')  # Start with a very high cost\n",
    "best_restart = -1  # To track the restart that found the global best solution\n",
    "global_history = []  # To store history of the best global restart\n",
    "\n",
    "# Restart loop with progress bar  \n",
    "for start in tqdm(range(max_restarts), desc=\"Restarts\", unit=\"restart\"):\n",
    "    # Best solution for this restart - initializes with all sets \n",
    "    current_solution = np.full(NUM_SETS, True)\n",
    "    current_cost = cost(current_solution)\n",
    "\n",
    "    # Keep track of the best solution for this restart\n",
    "    best_solution = current_solution.copy()\n",
    "    best_cost = current_cost\n",
    "\n",
    "    # Temperature initialization\n",
    "    temperature = initial_temperature\n",
    "\n",
    "    # History to track the cost progression for this restart\n",
    "    history = [float(-cost(best_solution))]\n",
    "\n",
    "    # Track valid costs for the last (max_same_cost_iterations) iterations\n",
    "    last_valid_costs = []\n",
    "\n",
    "    # Tweak iterations and progress bar update\n",
    "    for iteration in tqdm(range(max_iterations), desc=f\"Iterations in restart {start+1}\", leave=False, unit=\"iter\"):\n",
    "        # Create a new solution starting from the current solution\n",
    "        new_solution = current_solution.copy()\n",
    "\n",
    "        # Randomly tweak the current solution by removing sets with a probability\n",
    "        index = None\n",
    "        while index is None or np.random.random() < strength:\n",
    "            index = np.random.randint(0, NUM_SETS)\n",
    "            if new_solution[index]:  # Only remove if it's already in the solution\n",
    "                new_solution[index] = False\n",
    "\n",
    "        # Calculate the cost of the new solution\n",
    "        new_cost = cost(new_solution)\n",
    "\n",
    "        # Append the cost of the current solution (negative cost for plotting)\n",
    "        history.append(float(-new_cost))\n",
    "\n",
    "        # Check if the new solution should be accepted (Simulated Annealing rule)\n",
    "        if valid(new_solution):\n",
    "            if acceptance_probability(current_cost, new_cost, temperature) > np.random.random():\n",
    "                current_solution = new_solution.copy()  # Accept the new solution\n",
    "                current_cost = new_cost\n",
    "\n",
    "                # Update the best solution for this restart if the new solution is better\n",
    "                if new_cost < best_cost:\n",
    "                    best_solution = new_solution.copy()\n",
    "                    best_cost = new_cost\n",
    "                    buffer.append(1)  # Mark as improvement\n",
    "                else:\n",
    "                    buffer.append(0)  # No improvement\n",
    "            else:\n",
    "                buffer.append(0)  # No improvement\n",
    "\n",
    "            # Keep track of the valid costs\n",
    "            last_valid_costs.append(new_cost)\n",
    "            if len(last_valid_costs) > max_same_cost_iterations:\n",
    "                last_valid_costs.pop(0)  # Keep only the last (max_same_cost_iterations) valid costs\n",
    "\n",
    "            # If the last (max_same_cost_iterations) valid solutions have the same cost, stop this restart\n",
    "            if len(last_valid_costs) == max_same_cost_iterations and len(set(last_valid_costs)) == 1:\n",
    "                print(f\"Stopping restart {start} early due to {max_same_cost_iterations} iterations with the same cost.\")\n",
    "                break\n",
    "        else:\n",
    "            buffer.append(0)  # No improvement\n",
    "\n",
    "        # Keep the buffer size limited to the last 5 results\n",
    "        buffer = buffer[-5:]\n",
    "\n",
    "        # Adjust tweak strength based on buffer results (1/5 rule)\n",
    "        if sum(buffer) == 0:  # No improvements in the last 5 iterations\n",
    "            strength = max(strength / 1.2, 0.1)  # Decrease, but keep it above a threshold\n",
    "        elif sum(buffer) > 1:  # More than one improvement in the buffer\n",
    "            strength = min(strength * 1.2, 0.7)  # Increase, but keep it under a threshold\n",
    "\n",
    "        # Cool down the temperature (reduce exploration according to fitness)\n",
    "        if sum(buffer) == 0:  # No improvements in last 5 iterations\n",
    "            temperature = max(temperature * cooling_rate ** 2, min_temperature)\n",
    "        else:  # Frequent improvements\n",
    "            temperature = max(temperature * cooling_rate, min_temperature)\n",
    "\n",
    "    # After the restart, check if the current restart's best solution is better than the global best\n",
    "    if best_cost < global_best_cost:\n",
    "        global_best_solution = best_solution.copy()  # Update global best solution\n",
    "        global_best_cost = best_cost  # Update global best cost\n",
    "        best_restart = start  # Track which restart produced the global best\n",
    "        global_history = history.copy()  # Save the history of this restart\n",
    "\n",
    "# Plot the cost progression for the restart that produced the global best solution\n",
    "plt.figure(figsize=(14,8))\n",
    "plt.plot(\n",
    "    range(len(global_history)),\n",
    "    list(accumulate(global_history, max)),\n",
    "    color='red',\n",
    ")\n",
    "\n",
    "_ = plt.scatter(range(len(global_history)), global_history, marker=\".\")\n",
    "plt.xlabel(\"Iterations\")\n",
    "plt.ylabel(\"Cost (Negative)\")\n",
    "plt.title(f\"Cost Progression for Restart {best_restart} (Global Best Solution)\")\n",
    "plt.show()\n",
    "\n",
    "# After the restarts, print the best solution and its cost\n",
    "print(valid(global_best_solution), cost(global_best_solution))\n"
   ]
  }
 ],
 "metadata": {
  "kernelspec": {
   "display_name": "Python 3 (ipykernel)",
   "language": "python",
   "name": "python3"
  },
  "language_info": {
   "codemirror_mode": {
    "name": "ipython",
    "version": 3
   },
   "file_extension": ".py",
   "mimetype": "text/x-python",
   "name": "python",
   "nbconvert_exporter": "python",
   "pygments_lexer": "ipython3",
   "version": "3.8.8"
  }
 },
 "nbformat": 4,
 "nbformat_minor": 4
}
