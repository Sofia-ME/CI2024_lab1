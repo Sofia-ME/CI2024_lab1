{
 "cells": [
  {
   "cell_type": "markdown",
   "metadata": {},
   "source": [
    "Copyright **`(c)`** 2024 Giovanni Squillero `<giovanni.squillero@polito.it>`  \n",
    "[`https://github.com/squillero/computational-intelligence`](https://github.com/squillero/computational-intelligence)  \n",
    "Free for personal or classroom use; see [`LICENSE.md`](https://github.com/squillero/computational-intelligence/blob/master/LICENSE.md) for details.  "
   ]
  },
  {
   "cell_type": "markdown",
   "metadata": {},
   "source": [
    "# Set Cover problem\n",
    "\n",
    "See: https://en.wikipedia.org/wiki/Set_cover_problem"
   ]
  },
  {
   "cell_type": "code",
   "execution_count": 15,
   "metadata": {},
   "outputs": [],
   "source": [
    "from random import random, seed\n",
    "from itertools import product\n",
    "import numpy as np\n",
    "import matplotlib.pyplot as plt\n",
    "\n",
    "from icecream import ic"
   ]
  },
  {
   "cell_type": "markdown",
   "metadata": {},
   "source": [
    "## Reproducible Initialization\n",
    "\n",
    "If you want to get reproducible results, use `rng` (and restart the kernel); for non-reproducible ones, use `np.random`."
   ]
  },
  {
   "cell_type": "code",
   "execution_count": 16,
   "metadata": {},
   "outputs": [],
   "source": [
    "UNIVERSE_SIZE = 10000\n",
    "NUM_SETS = 1000\n",
    "DENSITY = 0.2\n",
    "\n",
    "rng = np.random.Generator(np.random.PCG64([UNIVERSE_SIZE, NUM_SETS, int(10_000 * DENSITY)]))"
   ]
  },
  {
   "cell_type": "code",
   "execution_count": 17,
   "metadata": {},
   "outputs": [],
   "source": [
    "# DON'T EDIT THESE LINES!\n",
    "\n",
    "SETS = np.random.random((NUM_SETS, UNIVERSE_SIZE)) < DENSITY\n",
    "for s in range(UNIVERSE_SIZE):\n",
    "    if not np.any(SETS[:, s]):\n",
    "        SETS[np.random.randint(NUM_SETS), s] = True\n",
    "COSTS = np.power(SETS.sum(axis=1), 1.1)"
   ]
  },
  {
   "cell_type": "markdown",
   "metadata": {},
   "source": [
    "## Helper Functions"
   ]
  },
  {
   "cell_type": "code",
   "execution_count": 18,
   "metadata": {},
   "outputs": [],
   "source": [
    "def valid(solution):\n",
    "    \"\"\"Checks wether solution is valid (ie. covers all universe)\"\"\"\n",
    "    return np.all(np.logical_or.reduce(SETS[solution]))\n",
    "\n",
    "\n",
    "def cost(solution):\n",
    "    \"\"\"Returns the cost of a solution (to be minimized)\"\"\"\n",
    "    return COSTS[solution].sum()"
   ]
  },
  {
   "cell_type": "markdown",
   "metadata": {},
   "source": [
    "## Have Fun!"
   ]
  },
  {
   "cell_type": "code",
   "execution_count": 19,
   "metadata": {},
   "outputs": [
    {
     "data": {
      "text/plain": [
       "(True, 4275095.880046674)"
      ]
     },
     "execution_count": 19,
     "metadata": {},
     "output_type": "execute_result"
    }
   ],
   "source": [
    "# A dumb solution of \"all\" sets\n",
    "solution = np.full(NUM_SETS, True)\n",
    "valid(solution), cost(solution)"
   ]
  },
  {
   "cell_type": "code",
   "execution_count": 20,
   "metadata": {},
   "outputs": [
    {
     "data": {
      "text/plain": [
       "(True, 2136370.3910243707)"
      ]
     },
     "execution_count": 20,
     "metadata": {},
     "output_type": "execute_result"
    }
   ],
   "source": [
    "# A random solution with random 50% of the sets\n",
    "solution = rng.random(NUM_SETS) < .5\n",
    "valid(solution), cost(solution)"
   ]
  },
  {
   "cell_type": "markdown",
   "metadata": {},
   "source": [
    "### Solution"
   ]
  },
  {
   "cell_type": "markdown",
   "metadata": {},
   "source": [
    "#### Tweak and Restart\n",
    "\n",
    "In this solution, the algorithm starts with an empty set of selected sets. It then randomly adds sets one by one until the solution covers all elements. The number of iterations for restarting the process is defined and, at each restart, a new random solution is generated. After each valid solution is found, the cost is compared with the current best solution. If the new solution has a lower cost, it replaces the best solution. This process of restarting helps explore different random combinations of sets.\n",
    "\n",
    "This approach is inspired by the Hill Climber and Restart algorithms presented in the Computational Intelligence course (01URROV)."
   ]
  },
  {
   "cell_type": "code",
   "execution_count": 7,
   "metadata": {},
   "outputs": [
    {
     "name": "stdout",
     "output_type": "stream",
     "text": [
      "True 145951.86525494716\n"
     ]
    }
   ],
   "source": [
    "# Tweak and restart\n",
    "\n",
    "# Best solution - initializes with all sets\n",
    "best = np.full(NUM_SETS, True)\n",
    "\n",
    "# How many times it should restart\n",
    "max_restarts = 100\n",
    "\n",
    "for i in range(max_restarts):\n",
    "\n",
    "    # Initialize the solution (start with no sets selected)\n",
    "    solution = np.full(NUM_SETS, False)\n",
    "\n",
    "    # Keep adding sets until the solution is valid\n",
    "    while not valid(solution):\n",
    "        # Randomly pick a set that is not already in the solution\n",
    "        index = np.random.randint(0, NUM_SETS)\n",
    "        if not solution[index]:  # Only add if not already in the solution\n",
    "            solution[index] = True\n",
    "        \n",
    "           \n",
    "\n",
    "    # Return the valid solution and its cost\n",
    "    #print(valid(solution), cost(solution))\n",
    "\n",
    "    if cost(solution) < cost (best):\n",
    "        best = solution.copy()\n",
    "\n",
    "\n",
    "print(valid(best), cost(best))"
   ]
  },
  {
   "cell_type": "markdown",
   "metadata": {},
   "source": [
    "\n",
    "\n",
    "#### Stronger Tweak and Restart\n",
    "\n",
    "This approach is a stronger version of the previous one, adding randomness more dynamically. Instead of simply picking a random set to add, the algorithm introduces a probability factor using a while loop to increase the likelihood of choosing multiple sets at once. This makes the solution generation more diverse by exploring more possible combinations in each restart. \n",
    "\n",
    "Like the previous method, this process is inspired by the Hill Climber, Stronger Tweak and Restart algorithms presented in the Computational Intelligence course (01URROV).\n",
    "\n"
   ]
  },
  {
   "cell_type": "code",
   "execution_count": 8,
   "metadata": {},
   "outputs": [
    {
     "name": "stdout",
     "output_type": "stream",
     "text": [
      "True 153245.97758340053\n"
     ]
    }
   ],
   "source": [
    "# Stronger tweak and restart\n",
    "\n",
    "# Best solution - initializes with all sets\n",
    "best = np.full(NUM_SETS, True)\n",
    "\n",
    "# How many times it should restart\n",
    "max_restarts = 100\n",
    "\n",
    "for i in range(max_restarts):\n",
    "\n",
    "    # Initialize the solution (start with no sets selected)\n",
    "    solution = np.full(NUM_SETS, False)\n",
    "\n",
    "    # Keep adding sets until the solution is valid\n",
    "    while not valid(solution):\n",
    "        index = None\n",
    "        while index is None or np.random.random() < 0.4:\n",
    "            index = np.random.randint(0, NUM_SETS)\n",
    "        \n",
    "            if not solution[index]:  # Only add if not already in the solution\n",
    "                solution[index] = True\n",
    "\n",
    "    # Return the valid solution and its cost\n",
    "    #print(valid(solution), cost(solution))\n",
    "\n",
    "    if cost(solution) < cost (best):\n",
    "        best = solution.copy()\n",
    "\n",
    "\n",
    "print(valid(best), cost(best))"
   ]
  },
  {
   "cell_type": "markdown",
   "metadata": {},
   "source": [
    "#### Greedy Algorithm\n",
    "\n",
    "This algorithm starts with no sets selected and progressively adds sets that cover the most uncovered elements at each step. The set with the highest number of uncovered elements and the lowest cost is chosen to minimize the overall cost. The algorithm iterates through all sets, checking both coverage and cost efficiency. After selecting the best set, it updates the list of uncovered elements and continues until all elements are covered. \n",
    "\n",
    "The greedy algorithm implemented here is based on the description of the algorithm from the Wikipedia reference provided in the notebook.\n",
    "\n"
   ]
  },
  {
   "cell_type": "code",
   "execution_count": 9,
   "metadata": {},
   "outputs": [
    {
     "name": "stdout",
     "output_type": "stream",
     "text": [
      "True 99879.28670834284\n"
     ]
    }
   ],
   "source": [
    "# Greedy algorithm\n",
    "\n",
    "# Initialize the solution (start with no sets selected)\n",
    "solution = np.full(NUM_SETS, False)\n",
    "\n",
    "# Array with all elements uncovered (initializes with all elements)\n",
    "uncovered_elements = np.where(np.any(SETS, axis=0))[0]\n",
    "\n",
    "while not valid(solution):\n",
    "\n",
    "    # Cost of the best set (initializes with the cost of all sets)\n",
    "    best_set_cost = cost(np.full(NUM_SETS, True))\n",
    "\n",
    "    # Maximum number of uncovered elements in a set\n",
    "    max_uncovered = 0\n",
    "\n",
    "    # Set with more uncovered elements and lowest cost\n",
    "    best_set_index = None\n",
    "\n",
    "    for set_index in range(len(SETS)):\n",
    "\n",
    "        # Checks if set has already been used\n",
    "        if not solution[set_index]:\n",
    "\n",
    "            # Number of elements still uncovered that a set covers\n",
    "            uncovered_elements_in_set = len(np.intersect1d(uncovered_elements, np.where(SETS[set_index])[0]))\n",
    "            \n",
    "            # Set cost \n",
    "            set_cost = COSTS[set_index]\n",
    "\n",
    "            # Update the best set based on uncovered elements and cost\n",
    "            if uncovered_elements_in_set > max_uncovered:\n",
    "                max_uncovered = uncovered_elements_in_set\n",
    "                best_set_index = set_index\n",
    "                best_set_cost = set_cost\n",
    "            elif uncovered_elements_in_set == max_uncovered and set_cost < best_set_cost:\n",
    "                best_set_index = set_index\n",
    "                best_set_cost = set_cost\n",
    "    \n",
    "    # Adds set to solution\n",
    "    solution[best_set_index] = True\n",
    "\n",
    "    # Updates list of uncovered elements\n",
    "    uncovered_elements = np.setdiff1d(uncovered_elements, np.where(SETS[best_set_index])[0])\n",
    "    \n",
    "\n",
    "print(valid(solution), cost(solution))        \n",
    "        "
   ]
  },
  {
   "cell_type": "markdown",
   "metadata": {},
   "source": [
    "#### Randomly Removes One Set at a Time\n",
    "\n",
    "In this approach, the solution starts with all subsets selected, meaning every element is initially covered. The algorithm randomly removes one set at a time and checks if the solution remains valid. If removing the set does not compromise the solution's validity, the solution is updated to this new configuration. The algorithm repeats this process for a fixed number of removal attempts. This process aims to reduce the solution's cost by eliminating unnecessary sets while ensuring that all elements remain covered.\n",
    "\n",
    "The inspiration for this code came from discussions on potential solutions during the Computational Intelligence course (01URROV).\n",
    "\n"
   ]
  },
  {
   "cell_type": "code",
   "execution_count": 10,
   "metadata": {},
   "outputs": [
    {
     "name": "stdout",
     "output_type": "stream",
     "text": [
      "True 3865929.870894736\n"
     ]
    }
   ],
   "source": [
    "# Randomly removes one set at a time\n",
    "\n",
    "# Initialize the solution (start with all sets selected)\n",
    "solution = np.full(NUM_SETS, True)  \n",
    "\n",
    "# Perform the random removal process multiple times\n",
    "num_removals = 100  \n",
    "\n",
    "for _ in range(num_removals):\n",
    "\n",
    "    new_solution = solution.copy()\n",
    "\n",
    "    # Randomly pick a subset to remove\n",
    "    set_to_remove = np.random.randint(0, NUM_SETS)\n",
    "    new_solution[set_to_remove] = False\n",
    "\n",
    "    # Check if the new solution is still valid\n",
    "    if valid(new_solution):\n",
    "        solution = new_solution\n",
    "\n",
    "\n",
    "print(valid(solution), cost(solution))\n"
   ]
  },
  {
   "cell_type": "markdown",
   "metadata": {},
   "source": [
    "#### Randomly Removes Sets\n",
    "\n",
    "This variation of the previous approach introduces a probabilistic mechanism for removing multiple sets in a single step. Instead of removing exactly one set, the algorithm may remove several sets at once based on a 90% probability. This allows for more aggressive exploration of possible solutions. Like the single-removal version, the algorithm ensures that the new configuration is valid before updating the solution. This method offers a broader exploration of possible configurations and can potentially yield a more cost-efficient solution in fewer steps.\n",
    "\n",
    "The inspiration for this code came from discussions on potential solutions during the Computational Intelligence course (01URROV).\n",
    "\n"
   ]
  },
  {
   "cell_type": "code",
   "execution_count": 11,
   "metadata": {},
   "outputs": [
    {
     "name": "stdout",
     "output_type": "stream",
     "text": [
      "True 1407753.3226824626\n"
     ]
    }
   ],
   "source": [
    "# Randomly removes sets\n",
    "\n",
    "# Initialize the solution (start with all sets selected)\n",
    "solution = np.full(NUM_SETS, True)  \n",
    "\n",
    "# Perform the random removal process multiple times\n",
    "num_removals = 100  \n",
    "\n",
    "for _ in range(num_removals):\n",
    "\n",
    "    new_solution = solution.copy()\n",
    "\n",
    "    # Randomly remove sets with a 90% chance for additional removals\n",
    "    index = None\n",
    "    while index is None or np.random.random() < 0.9:\n",
    "        # Pick a random set to remove\n",
    "        index = np.random.randint(0, NUM_SETS)\n",
    "\n",
    "        # Only remove if it's currently in the solution \n",
    "        if new_solution[index]:\n",
    "            new_solution[index] = False\n",
    "\n",
    "    # Check if the new solution is still valid\n",
    "    if valid(new_solution):\n",
    "        solution = new_solution\n",
    "\n",
    "print(valid(solution), cost(solution))\n"
   ]
  },
  {
   "cell_type": "markdown",
   "metadata": {},
   "source": [
    "### Performance Comparison\n",
    "\n",
    "- **Tweak and Restart**: This method explores random solutions without specific strategies, relying on multiple restarts to find a better configuration. It may take longer to converge to a good solution and is less efficient than structured approaches. Its final cost might be higher as it lacks focus on cost efficiency.\n",
    "  \n",
    "- **Stronger Tweak and Restart**: This variation introduces a probabilistic selection process, exploring more diverse combinations. It performs slightly better than the simpler tweak and restart, as it samples more potential solutions, but it is still not as efficient as other methods in minimizing the cost.\n",
    "\n",
    "- **Greedy Algorithm**: The greedy approach systematically selects the most cost-effective and coverage-efficient sets, leading to a much more optimized solution. It prioritizes covering as many uncovered elements as possible with the least cost, resulting in a better solution than random tweaks in both cost and performance. It converges quickly and is likely to achieve the lowest cost.\n",
    "\n",
    "- **Randomly Removes One Set at a Time**: This method starts with the maximum coverage and gradually reduces unnecessary sets. It can perform well if there are many redundant sets, but removing only one set at a time may limit its effectiveness in finding the most optimal solution.\n",
    "\n",
    "- **Randomly Removes Sets**: The probabilistic removal of multiple sets introduces greater flexibility in exploring different solutions. It can lead to a faster reduction in cost but might also remove necessary sets, requiring more iterations to maintain a valid solution. This method strikes a balance between exploration and solution validity but can sometimes remove sets too aggressively.\n",
    "\n",
    "Overall, the **greedy algorithm** typically offers the best performance in terms of minimizing cost and efficiency due to its systematic approach. The **random removal strategies** can also be effective, especially when redundant sets are present, but they tend to require more iterations to converge to a low-cost solution."
   ]
  }
 ],
 "metadata": {
  "kernelspec": {
   "display_name": "Python 3 (ipykernel)",
   "language": "python",
   "name": "python3"
  },
  "language_info": {
   "codemirror_mode": {
    "name": "ipython",
    "version": 3
   },
   "file_extension": ".py",
   "mimetype": "text/x-python",
   "name": "python",
   "nbconvert_exporter": "python",
   "pygments_lexer": "ipython3",
   "version": "3.8.8"
  }
 },
 "nbformat": 4,
 "nbformat_minor": 4
}
